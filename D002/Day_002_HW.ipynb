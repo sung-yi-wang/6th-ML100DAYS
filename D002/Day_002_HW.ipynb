{
 "cells": [
  {
   "cell_type": "markdown",
   "metadata": {},
   "source": [
    "## [作業目標]\n",
    "了解機器學習適合應用的領域與範疇。"
   ]
  },
  {
   "cell_type": "markdown",
   "metadata": {},
   "source": [
    "## [作業重點]\n",
    "透過瞭解機器學習的運作方式，找出非常適用機器學習應用的領域及其原因"
   ]
  },
  {
   "cell_type": "markdown",
   "metadata": {},
   "source": [
    "## 作業\n",
    "請找出一個你認為機器學習可以發光發熱的領域並闡述原因?\n",
    "<pre>\n",
    "機器學習很多的思想和方法已經開始被用來解決軟體測試領域中的多項難題，其因是當前的軟體測試技術主要有三個方面的局限性：\n",
    "- GUI自動化測試的開發效率與維護成本高居不下\n",
    "- 測試覆蓋率盲區隨著軟體功能增長而變大\n",
    "- 失敗測試用例仍基於人工分類\n",
    "而這些問題可以藉由機器學習技術來改善或加強測試的自動化，使得測試人員能夠更專注於測試規劃，提升測試品質及效率\n",
    "</pre>"
   ]
  },
  {
   "cell_type": "code",
   "execution_count": null,
   "metadata": {},
   "outputs": [],
   "source": [
    "   "
   ]
  }
 ],
 "metadata": {
  "kernelspec": {
   "display_name": "Python 3",
   "language": "python",
   "name": "python3"
  },
  "language_info": {
   "codemirror_mode": {
    "name": "ipython",
    "version": 3
   },
   "file_extension": ".py",
   "mimetype": "text/x-python",
   "name": "python",
   "nbconvert_exporter": "python",
   "pygments_lexer": "ipython3",
   "version": "3.9.0"
  }
 },
 "nbformat": 4,
 "nbformat_minor": 2
}
